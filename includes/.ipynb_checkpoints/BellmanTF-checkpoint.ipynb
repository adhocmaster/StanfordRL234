{
 "cells": [
  {
   "cell_type": "code",
   "execution_count": 1,
   "metadata": {},
   "outputs": [],
   "source": [
    "import tensorflow as tf\n",
    "import numpy as np\n",
    "gpu_options = tf.GPUOptions(per_process_gpu_memory_fraction=0.8)\n",
    "sessConfig=tf.ConfigProto(gpu_options=gpu_options)"
   ]
  },
  {
   "cell_type": "code",
   "execution_count": 5,
   "metadata": {},
   "outputs": [
    {
     "data": {
      "text/plain": [
       "array([0, 1, 2, 3, 4])"
      ]
     },
     "execution_count": 5,
     "metadata": {},
     "output_type": "execute_result"
    }
   ],
   "source": [
    "npV = np.arange(5\n",
    "               )\n",
    "npV"
   ]
  },
  {
   "cell_type": "code",
   "execution_count": 98,
   "metadata": {},
   "outputs": [],
   "source": [
    "\n",
    "class RLUtilsTF():\n",
    "\n",
    "    def createRowVec( self, n:int, initialVals=0., dtype=None, name=None ):\n",
    "        \"\"\"[summary]\n",
    "        \n",
    "        Arguments:\n",
    "            n {int} -- [description]\n",
    "        \n",
    "        Keyword Arguments:\n",
    "            initialVals {[type]} -- [description] (default: {0.})\n",
    "            dtype {[type]} -- [description] (default: {None})\n",
    "            name {[type]} -- [description] (default: {None})\n",
    "        \n",
    "        Returns:\n",
    "            [type] -- Row vector with a initial value 0.\n",
    "        \"\"\"\n",
    "\n",
    "\n",
    "        if dtype is None:\n",
    "            return tf.Variable(tf.fill( [n, 1], initialVals ), name=name )\n",
    "        else:\n",
    "            return tf.Variable(\n",
    "                        tf.cast( tf.fill( [n, 1], initialVals ), name=name , dtype=dtype )\n",
    "            )\n",
    "    \n",
    "\n",
    "    def createRowVecfromNumpyVector( self, npV:np.ndarray, dtype=None, name=None ):\n",
    "\n",
    "        if dtype is not None:\n",
    "            npV = npV.astype( dtype )\n",
    "        \n",
    "        return tf.Variable( tf.reshape(npV, [-1,1]), name=name )\n",
    "\n",
    "    def createRowVecfromNumpyMatrix( self, npV, dtype=None, name=None ):\n",
    "\n",
    "        if dtype is not None:\n",
    "            npV = npV.astype( dtype )\n",
    "            \n",
    "        return tf.Variable( npV, name=name  )\n",
    "    \n",
    "    def createRandomProbabiltyMatrix( self, n, dtype=tf.float32 ):\n",
    "\n",
    "        with tf.name_scope( 'rlUtilsP' ):\n",
    "\n",
    "            vec = tf.get_variable(\"temp_vec\", shape=[n], initializer=tf.zeros_initializer(), dtype=dtype )\n",
    "            \n",
    "            ta = tf.TensorArray( dtype=dtype, size=n )\n",
    "\n",
    "            loopVars = ( 0, ta )\n",
    "\n",
    "            condition = lambda i, _: i < n\n",
    "\n",
    "            def body( i, ta ): \n",
    "                randomizeVec = vec.assign( tf.random_uniform( shape=[n], seed=39, dtype=dtype ) )\n",
    "                softmaxVec = tf.divide( randomizeVec, tf.reduce_sum( randomizeVec ) )\n",
    "                with tf.control_dependencies([randomizeVec, softmaxVec]):\n",
    "                    return ( i + 1, ta.write(i, softmaxVec ) ) \n",
    "            \n",
    "\n",
    "            _, ta_final = tf.while_loop( condition, body, loopVars )\n",
    "\n",
    "            return ta_final.stack()\n",
    "\n",
    "\n",
    "    "
   ]
  },
  {
   "cell_type": "code",
   "execution_count": 99,
   "metadata": {},
   "outputs": [],
   "source": [
    "rlUtils = RLUtilsTF()\n"
   ]
  },
  {
   "cell_type": "code",
   "execution_count": 102,
   "metadata": {},
   "outputs": [
    {
     "name": "stdout",
     "output_type": "stream",
     "text": [
      "[[0]\n",
      " [0]\n",
      " [0]\n",
      " [0]\n",
      " [0]]\n",
      "[0.9911251  0.5737276  0.6360707  0.15947068 0.9381956 ]\n",
      "[[3.94010980e-01 3.75632064e-02 2.14421871e-01 2.61124659e-02\n",
      "  3.27891477e-01]\n",
      " [2.73176148e-01 3.49314804e-01 2.75400302e-01 9.70524975e-02\n",
      "  5.05624875e-03]\n",
      " [4.86278559e-01 1.30606528e-01 1.47819623e-01 7.76311423e-03\n",
      "  2.27532176e-01]\n",
      " [1.77969489e-01 1.44348042e-01 3.15334965e-01 3.30558712e-01\n",
      "  3.17887921e-02]\n",
      " [4.29984280e-04 5.59505891e-01 1.68737561e-01 1.94013282e-01\n",
      "  7.73132826e-02]]\n"
     ]
    }
   ],
   "source": [
    "with tf.variable_scope( 'test3', reuse=False):\n",
    "    b1 = rlUtils.createRowVec(5, dtype=tf.int64)\n",
    "    b2 = tf.random_uniform( [5], seed=39 )\n",
    "    a = [1,2]\n",
    "    b3 = rlUtils.createRandomProbabiltyMatrix(5, dtype=tf.float64)\n",
    "\n",
    "with tf.Session( config=sessConfig ) as sess:\n",
    "    sess.run(tf.global_variables_initializer())\n",
    "    b1_out, b2_out, b3_out = sess.run([b1,b2,b3])\n",
    "    print( b1_out )\n",
    "    print(b2_out)\n",
    "    print(b3_out)\n"
   ]
  },
  {
   "cell_type": "code",
   "execution_count": 104,
   "metadata": {},
   "outputs": [],
   "source": [
    "with tf.variable_scope( 'test4', reuse = False ):\n",
    "    V = rlUtils.createRowVec(5, name='V', dtype=tf.float64)\n",
    "    R = tf.random_normal([5,1], mean = 0, stddev=1.0, seed=39, name='reward', dtype=tf.float64 )\n",
    "    P = rlUtils.createRandomProbabiltyMatrix( 5, dtype=tf.float64 )\n",
    "    gamma = 0.5"
   ]
  },
  {
   "cell_type": "code",
   "execution_count": 105,
   "metadata": {},
   "outputs": [],
   "source": [
    "\n",
    "class BellmanTF():\n",
    "\n",
    "    def oneShotMRPEvaluation(self, V, P, R, gamma):\n",
    "        \"\"\"Don't call it more than once over the same set of variables. Evaluate the operator whenever needed.\n",
    "        It is only good for small MRP's with discount < 1, finite reward set, finite state set, \n",
    "        static transition probabilities. Caculates all the values of states.\n",
    "        \n",
    "        Arguments:\n",
    "            V {np.variable} -- matrix of shape [n,1] where n is the number of states\n",
    "            P {np.variable} -- matrix of [n,n] where each row is s and each column is s'. static transition probabilities\n",
    "            R {np.variable} -- same as the shape of V. finite reward set\n",
    "            gamma{ same type as P}\n",
    "        \n",
    "        Returns:\n",
    "            \n",
    "        \"\"\"\n",
    "\n",
    "        dnom = tf.subtract(tf.ones_like(P), tf.multiply(P, gamma) )\n",
    "        invDnom = tf.matrix_inverse(dnom)\n",
    "        return V.assign(tf.matmul(invDnom, R))"
   ]
  },
  {
   "cell_type": "code",
   "execution_count": 106,
   "metadata": {},
   "outputs": [],
   "source": [
    "bellman = BellmanTF()\n",
    "updateV = bellman.oneShotMRPEvaluation( V, P, R, gamma )"
   ]
  },
  {
   "cell_type": "code",
   "execution_count": 107,
   "metadata": {},
   "outputs": [
    {
     "name": "stdout",
     "output_type": "stream",
     "text": [
      "[[-2.98639307]\n",
      " [ 2.87398087]\n",
      " [ 2.88728901]\n",
      " [-6.10398221]\n",
      " [ 3.86017701]]\n",
      "[[0.80299451 0.9812184  0.89278906 0.98694377 0.83605426]\n",
      " [0.86341193 0.8253426  0.86229985 0.95147375 0.99747188]\n",
      " [0.75686072 0.93469674 0.92609019 0.99611844 0.88623391]\n",
      " [0.91101526 0.92782598 0.84233252 0.83472064 0.9841056 ]\n",
      " [0.99978501 0.72024705 0.91563122 0.90299336 0.96134336]]\n",
      "[[  6.60906436  -0.10416289  -8.35139734  -0.39950945   2.46822754]\n",
      " [  2.52949158  -1.73726967  -1.28072452   3.06895584  -2.358231  ]\n",
      " [ -9.64247958 -11.33521341  14.20757932   2.41269913   4.57963677]\n",
      " [  7.30171541   8.44721377  -7.29896434  -6.68708212  -1.5406605 ]\n",
      " [ -6.44301274   4.27162799   2.96881759   2.09942185  -2.67463247]]\n"
     ]
    }
   ],
   "source": [
    "with tf.variable_scope( 'test', reuse=True):\n",
    "    b2 = tf.subtract(tf.ones_like(P), tf.multiply(P, gamma) )\n",
    "    b3 = tf.matrix_inverse(b2)\n",
    "    b1 = updateV\n",
    "\n",
    "with tf.Session( config=sessConfig ) as sess:\n",
    "    sess.run(tf.global_variables_initializer())\n",
    "    b1_out, b2_out, b3_out = sess.run([b1,b2,b3])\n",
    "    print( b1_out )\n",
    "    print(b2_out)\n",
    "    print(b3_out)"
   ]
  },
  {
   "cell_type": "code",
   "execution_count": null,
   "metadata": {},
   "outputs": [],
   "source": [
    "with tf.Session( config=sessConfig ) as sess:\n",
    "    sess.run(tf.global_variables_initializer())\n",
    "    V_out, V_0, R_out, P_out = sess.run( [updateV, V, R, P] )\n",
    "    print(V_out)\n",
    "    print(V_0)\n",
    "    print(R_out)\n",
    "    print(P_out)"
   ]
  }
 ],
 "metadata": {
  "kernelspec": {
   "display_name": "Python 3",
   "language": "python",
   "name": "python3"
  },
  "language_info": {
   "codemirror_mode": {
    "name": "ipython",
    "version": 3
   },
   "file_extension": ".py",
   "mimetype": "text/x-python",
   "name": "python",
   "nbconvert_exporter": "python",
   "pygments_lexer": "ipython3",
   "version": "3.6.6"
  }
 },
 "nbformat": 4,
 "nbformat_minor": 2
}

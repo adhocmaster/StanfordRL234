{
 "cells": [
  {
   "cell_type": "code",
   "execution_count": 1,
   "metadata": {},
   "outputs": [],
   "source": [
    "import tensorflow as tf\n",
    "import numpy as np\n",
    "gpu_options = tf.GPUOptions(per_process_gpu_memory_fraction=0.8)\n",
    "sessConfig=tf.ConfigProto(gpu_options=gpu_options)"
   ]
  },
  {
   "cell_type": "code",
   "execution_count": 26,
   "metadata": {},
   "outputs": [],
   "source": [
    "\n",
    "class BellmanTF():\n",
    "\n",
    "    def recursiveMRPOperator(self, V, P, R, gamma):\n",
    "        \"\"\"Don't call it more than once over the same set of variables. Evaluate the operator whenever needed.\n",
    "        \n",
    "        Arguments:\n",
    "            V {np.variable} -- matrix of shape [n,1] where n is the number of states\n",
    "            P {np.variable} -- matrix of [n,n] where each row is s and each column is s'\n",
    "            R {np.variable} -- same as the shape of V\n",
    "            gamma{np.constant}\n",
    "        \"\"\"\n",
    "\n",
    "        dnom = tf.subtract(1, tf.mul(P, gamma) )\n",
    "        invDnom = tf.matrix_inverse(dnom)\n",
    "        return V.assign(tf.matmul(invDnom, R))\n",
    "\n",
    "\n",
    "    def createRowVec( self, n:int, initialStateVals=0 ):\n",
    "        return tf.Variable(tf.fill( [n, 1], initialStateVals ))\n",
    "    \n",
    "\n",
    "    def createRowVecfromNumpyVector( self, npV ):\n",
    "        return tf.Variable( tf.reshape(npV, [-1,1]) )\n",
    "\n",
    "\n",
    "    def createRowVecfromNumpyMatrix( self, npV ):\n",
    "        return tf.Variable( npV )"
   ]
  },
  {
   "cell_type": "code",
   "execution_count": 27,
   "metadata": {},
   "outputs": [],
   "source": [
    "belman = Bellman()"
   ]
  },
  {
   "cell_type": "code",
   "execution_count": 8,
   "metadata": {},
   "outputs": [
    {
     "name": "stdout",
     "output_type": "stream",
     "text": [
      "[[0 0 0 0]\n",
      " [0 0 0 0]]\n"
     ]
    }
   ],
   "source": [
    "mat = tf.fill([2,4], 0)\n",
    "with tf.Session( config=sessConfig ) as sess:\n",
    "    out = sess.run(mat)\n",
    "    print( out )"
   ]
  },
  {
   "cell_type": "code",
   "execution_count": 9,
   "metadata": {},
   "outputs": [
    {
     "data": {
      "text/plain": [
       "array([0, 1, 2, 3, 4])"
      ]
     },
     "execution_count": 9,
     "metadata": {},
     "output_type": "execute_result"
    }
   ],
   "source": [
    "npV = np.arange(5\n",
    "               )\n",
    "npV"
   ]
  },
  {
   "cell_type": "code",
   "execution_count": 13,
   "metadata": {},
   "outputs": [
    {
     "name": "stdout",
     "output_type": "stream",
     "text": [
      "[0 1 2 3 4]\n"
     ]
    }
   ],
   "source": [
    "bellV = tf.Variable( npV )\n",
    "with tf.Session( config=sessConfig ) as sess:\n",
    "    sess.run(tf.global_variables_initializer())\n",
    "    out = sess.run(bellV)\n",
    "    print( out )"
   ]
  },
  {
   "cell_type": "code",
   "execution_count": 116,
   "metadata": {},
   "outputs": [],
   "source": [
    "\n",
    "class RLUtilsTF():\n",
    "\n",
    "\n",
    "    def createRowVec( self, n:int, initialStateVals=0., type=None, name=None ):\n",
    "\n",
    "        if type is None:\n",
    "            return tf.Variable(tf.fill( [n, 1], initialStateVals ), name=name )\n",
    "        else:\n",
    "            return tf.Variable(\n",
    "                        tf.cast( tf.fill( [n, 1], initialStateVals ), name=name , dtype=type )\n",
    "            )\n",
    "    \n",
    "\n",
    "    def createRowVecfromNumpyVector( self, npV:np.ndarray, type=None, name=None ):\n",
    "\n",
    "        if type is not None:\n",
    "            npV = npV.astype( type )\n",
    "        \n",
    "        return tf.Variable( tf.reshape(npV, [-1,1]), name=name )\n",
    "\n",
    "    def createRowVecfromNumpyMatrix( self, npV, type=None, name=None ):\n",
    "\n",
    "        if type is not None:\n",
    "            npV = npV.astype( type )\n",
    "            \n",
    "        return tf.Variable( npV, name=name  )\n",
    "    \n",
    "    def createRandomProbabiltyMatrix( self, n ):\n",
    "\n",
    "        with tf.name_scope( 'rlUtilsP' ):\n",
    "\n",
    "            vec = tf.get_variable(\"temp_vec\", shape=[n], initializer=tf.zeros_initializer() )\n",
    "            randomizeVec = vec.assign( tf.random_uniform( shape=[n], seed=39 ) )\n",
    "            softmaxVec = tf.divide( randomizeVec, tf.reduce_sum( randomizeVec ) )\n",
    "\n",
    "            ta = tf.TensorArray( dtype=tf.float32, size=n )\n",
    "\n",
    "            loopVars = ( 0, ta )\n",
    "\n",
    "            condition = lambda i, _: i < n\n",
    "\n",
    "            body = lambda i, ta: ( i + 1, ta.write(i, softmaxVec ) )\n",
    "\n",
    "            m, ta_final = tf.while_loop( condition, body, loopVars )\n",
    "\n",
    "            return ta_final.stack()\n",
    "\n",
    "    "
   ]
  },
  {
   "cell_type": "code",
   "execution_count": 117,
   "metadata": {},
   "outputs": [],
   "source": [
    "rlUtils = RLUtilsTF()\n"
   ]
  },
  {
   "cell_type": "code",
   "execution_count": 119,
   "metadata": {},
   "outputs": [
    {
     "name": "stdout",
     "output_type": "stream",
     "text": [
      "[[0]\n",
      " [0]\n",
      " [0]\n",
      " [0]\n",
      " [0]]\n",
      "[0.9911251  0.5737276  0.6360707  0.15947068 0.9381956 ]\n",
      "[[0.30046934 0.17393118 0.19283111 0.04834511 0.28442323]\n",
      " [0.30046934 0.17393118 0.19283111 0.04834511 0.28442323]\n",
      " [0.30046934 0.17393118 0.19283111 0.04834511 0.28442323]\n",
      " [0.30046934 0.17393118 0.19283111 0.04834511 0.28442323]\n",
      " [0.30046934 0.17393118 0.19283111 0.04834511 0.28442323]]\n"
     ]
    }
   ],
   "source": [
    "with tf.variable_scope( 'test'):\n",
    "    b1 = rlUtils.createRowVec(5, type=tf.int32)\n",
    "    b2 = tf.random_uniform( [5], seed=39 )\n",
    "    a = [1,2]\n",
    "    b3 = rlUtils.createRandomProbabiltyMatrix(5)\n",
    "\n",
    "with tf.Session( config=sessConfig ) as sess:\n",
    "    sess.run(tf.global_variables_initializer())\n",
    "    b1_out, b2_out, b3_out = sess.run([b1,b2,b3])\n",
    "    print( b1_out )\n",
    "    print(b2_out)\n",
    "    print(b3_out)\n"
   ]
  },
  {
   "cell_type": "code",
   "execution_count": 109,
   "metadata": {},
   "outputs": [
    {
     "ename": "NameError",
     "evalue": "name 'P' is not defined",
     "output_type": "error",
     "traceback": [
      "\u001b[1;31m---------------------------------------------------------------------------\u001b[0m",
      "\u001b[1;31mNameError\u001b[0m                                 Traceback (most recent call last)",
      "\u001b[1;32m<ipython-input-109-7e8ba93607cc>\u001b[0m in \u001b[0;36m<module>\u001b[1;34m()\u001b[0m\n\u001b[0;32m      2\u001b[0m \u001b[0mV\u001b[0m \u001b[1;33m=\u001b[0m \u001b[0mrlUtils\u001b[0m\u001b[1;33m.\u001b[0m\u001b[0mcreateRowVec\u001b[0m\u001b[1;33m(\u001b[0m\u001b[1;36m5\u001b[0m\u001b[1;33m,\u001b[0m \u001b[0mname\u001b[0m\u001b[1;33m=\u001b[0m\u001b[1;34m'V'\u001b[0m\u001b[1;33m)\u001b[0m\u001b[1;33m\u001b[0m\u001b[0m\n\u001b[0;32m      3\u001b[0m \u001b[0mR\u001b[0m \u001b[1;33m=\u001b[0m \u001b[0mtf\u001b[0m\u001b[1;33m.\u001b[0m\u001b[0mrandom_normal\u001b[0m\u001b[1;33m(\u001b[0m\u001b[1;33m[\u001b[0m\u001b[1;36m5\u001b[0m\u001b[1;33m,\u001b[0m\u001b[1;36m1\u001b[0m\u001b[1;33m]\u001b[0m\u001b[1;33m,\u001b[0m \u001b[0mmean\u001b[0m \u001b[1;33m=\u001b[0m \u001b[1;36m0\u001b[0m\u001b[1;33m,\u001b[0m \u001b[0mstddev\u001b[0m\u001b[1;33m=\u001b[0m\u001b[1;36m1.0\u001b[0m\u001b[1;33m,\u001b[0m \u001b[0mseed\u001b[0m\u001b[1;33m=\u001b[0m\u001b[1;36m39\u001b[0m\u001b[1;33m,\u001b[0m \u001b[0mname\u001b[0m\u001b[1;33m=\u001b[0m\u001b[1;34m'reward'\u001b[0m\u001b[1;33m)\u001b[0m\u001b[1;33m\u001b[0m\u001b[0m\n\u001b[1;32m----> 4\u001b[1;33m \u001b[0mP\u001b[0m\u001b[1;33m\u001b[0m\u001b[0m\n\u001b[0m",
      "\u001b[1;31mNameError\u001b[0m: name 'P' is not defined"
     ]
    }
   ],
   "source": [
    "\n",
    "V = rlUtils.createRowVec(5, name='V')\n",
    "R = tf.random_normal([5,1], mean = 0, stddev=1.0, seed=39, name='reward')\n",
    "P"
   ]
  },
  {
   "cell_type": "code",
   "execution_count": null,
   "metadata": {},
   "outputs": [],
   "source": [
    "a = [1,2]\n",
    "b = tf.Variable(a)"
   ]
  }
 ],
 "metadata": {
  "kernelspec": {
   "display_name": "Python 3",
   "language": "python",
   "name": "python3"
  },
  "language_info": {
   "codemirror_mode": {
    "name": "ipython",
    "version": 3
   },
   "file_extension": ".py",
   "mimetype": "text/x-python",
   "name": "python",
   "nbconvert_exporter": "python",
   "pygments_lexer": "ipython3",
   "version": "3.6.6"
  }
 },
 "nbformat": 4,
 "nbformat_minor": 2
}

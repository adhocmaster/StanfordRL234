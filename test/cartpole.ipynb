{
 "cells": [
  {
   "cell_type": "code",
   "execution_count": 2,
   "metadata": {},
   "outputs": [],
   "source": [
    "import gym\n",
    "import pprint"
   ]
  },
  {
   "cell_type": "code",
   "execution_count": 8,
   "metadata": {},
   "outputs": [
    {
     "name": "stdout",
     "output_type": "stream",
     "text": [
      "array([ 0.03196648, -0.01358427, -0.04462666,  0.03806507])\n",
      "(4,)\n",
      "finished in 11 steps\n",
      "array([ 0.00358234, -0.00221109,  0.03081894, -0.01100323])\n",
      "(4,)\n",
      "finished in 18 steps\n",
      "array([ 0.03708582,  0.00331781, -0.03466117,  0.01624617])\n",
      "(4,)\n",
      "finished in 14 steps\n",
      "array([ 0.00686649, -0.03185128,  0.04125415,  0.0319042 ])\n",
      "(4,)\n",
      "finished in 21 steps\n",
      "array([-0.02351751, -0.02262717, -0.00324339, -0.04710279])\n",
      "(4,)\n",
      "finished in 12 steps\n",
      "array([-0.0320673 , -0.00022197, -0.04668923,  0.01278829])\n",
      "(4,)\n",
      "finished in 14 steps\n",
      "array([-0.0108548 , -0.04974589,  0.03123999, -0.01235597])\n",
      "(4,)\n",
      "finished in 36 steps\n",
      "array([ 0.0277513 ,  0.02704252, -0.03878192, -0.016282  ])\n",
      "(4,)\n",
      "finished in 28 steps\n",
      "array([-0.01485254, -0.00728236,  0.01603117, -0.00369675])\n",
      "(4,)\n",
      "finished in 14 steps\n",
      "array([ 0.02880869,  0.03342425, -0.00807837,  0.01892529])\n",
      "(4,)\n",
      "finished in 10 steps\n"
     ]
    }
   ],
   "source": [
    "pp = pprint.PrettyPrinter( width=4 )\n",
    "env = gym.make('CartPole-v0')\n",
    "\n",
    "for i in range(10):\n",
    "    obs = env.reset()\n",
    "    pp.pprint(obs)\n",
    "    pp.pprint(obs.shape)\n",
    "    for steps in range(1000):\n",
    "        env.render()\n",
    "        obs, r, done, info = env.step( env.action_space.sample() )\n",
    "        if done:\n",
    "            print( f\"finished in {steps} steps\" )\n",
    "            break\n",
    "env.close()"
   ]
  },
  {
   "cell_type": "code",
   "execution_count": 6,
   "metadata": {},
   "outputs": [],
   "source": []
  },
  {
   "cell_type": "code",
   "execution_count": null,
   "metadata": {},
   "outputs": [],
   "source": []
  }
 ],
 "metadata": {
  "kernelspec": {
   "display_name": "Python 3",
   "language": "python",
   "name": "python3"
  },
  "language_info": {
   "codemirror_mode": {
    "name": "ipython",
    "version": 3
   },
   "file_extension": ".py",
   "mimetype": "text/x-python",
   "name": "python",
   "nbconvert_exporter": "python",
   "pygments_lexer": "ipython3",
   "version": "3.6.6"
  }
 },
 "nbformat": 4,
 "nbformat_minor": 2
}
